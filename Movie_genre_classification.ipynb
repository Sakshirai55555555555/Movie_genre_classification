{
  "nbformat": 4,
  "nbformat_minor": 0,
  "metadata": {
    "colab": {
      "provenance": []
    },
    "kernelspec": {
      "name": "python3",
      "display_name": "Python 3"
    },
    "language_info": {
      "name": "python"
    }
  },
  "cells": [
    {
      "cell_type": "code",
      "execution_count": 4,
      "metadata": {
        "colab": {
          "base_uri": "https://localhost:8080/"
        },
        "id": "JBxfcBMmvgxi",
        "outputId": "b4f74849-2815-4cbd-cc95-79e6da96fff0"
      },
      "outputs": [
        {
          "output_type": "stream",
          "name": "stdout",
          "text": [
            "Requirement already satisfied: pandas in /usr/local/lib/python3.10/dist-packages (2.2.2)\n",
            "Requirement already satisfied: scikit-learn in /usr/local/lib/python3.10/dist-packages (1.5.2)\n",
            "Requirement already satisfied: nltk in /usr/local/lib/python3.10/dist-packages (3.9.1)\n",
            "Requirement already satisfied: numpy>=1.22.4 in /usr/local/lib/python3.10/dist-packages (from pandas) (1.26.4)\n",
            "Requirement already satisfied: python-dateutil>=2.8.2 in /usr/local/lib/python3.10/dist-packages (from pandas) (2.8.2)\n",
            "Requirement already satisfied: pytz>=2020.1 in /usr/local/lib/python3.10/dist-packages (from pandas) (2024.2)\n",
            "Requirement already satisfied: tzdata>=2022.7 in /usr/local/lib/python3.10/dist-packages (from pandas) (2024.2)\n",
            "Requirement already satisfied: scipy>=1.6.0 in /usr/local/lib/python3.10/dist-packages (from scikit-learn) (1.13.1)\n",
            "Requirement already satisfied: joblib>=1.2.0 in /usr/local/lib/python3.10/dist-packages (from scikit-learn) (1.4.2)\n",
            "Requirement already satisfied: threadpoolctl>=3.1.0 in /usr/local/lib/python3.10/dist-packages (from scikit-learn) (3.5.0)\n",
            "Requirement already satisfied: click in /usr/local/lib/python3.10/dist-packages (from nltk) (8.1.7)\n",
            "Requirement already satisfied: regex>=2021.8.3 in /usr/local/lib/python3.10/dist-packages (from nltk) (2024.9.11)\n",
            "Requirement already satisfied: tqdm in /usr/local/lib/python3.10/dist-packages (from nltk) (4.66.6)\n",
            "Requirement already satisfied: six>=1.5 in /usr/local/lib/python3.10/dist-packages (from python-dateutil>=2.8.2->pandas) (1.16.0)\n"
          ]
        }
      ],
      "source": [
        "# Install necessary libraries\n",
        "!pip install pandas scikit-learn nltk\n"
      ]
    },
    {
      "cell_type": "code",
      "source": [
        "import pandas as pd\n",
        "from sklearn.feature_extraction.text import TfidfVectorizer\n",
        "from sklearn.model_selection import train_test_split\n",
        "from sklearn.multiclass import OneVsRestClassifier\n",
        "from sklearn.naive_bayes import MultinomialNB\n",
        "from sklearn.metrics import classification_report, accuracy_score\n",
        "import nltk\n",
        "from nltk.corpus import stopwords\n",
        "import re\n",
        "import string\n",
        "\n",
        "# Download NLTK data\n",
        "nltk.download('stopwords')\n"
      ],
      "metadata": {
        "colab": {
          "base_uri": "https://localhost:8080/"
        },
        "id": "90NY4yqvviQs",
        "outputId": "bd5f440b-d761-44a0-e8ae-00cf930019ce"
      },
      "execution_count": 5,
      "outputs": [
        {
          "output_type": "stream",
          "name": "stderr",
          "text": [
            "[nltk_data] Downloading package stopwords to /root/nltk_data...\n",
            "[nltk_data]   Package stopwords is already up-to-date!\n"
          ]
        },
        {
          "output_type": "execute_result",
          "data": {
            "text/plain": [
              "True"
            ]
          },
          "metadata": {},
          "execution_count": 5
        }
      ]
    },
    {
      "cell_type": "code",
      "source": [
        "# Load dataset from GitHub (update the URL to your dataset's GitHub link)\n",
        "url = \"https://raw.githubusercontent.com/shashankvmaiya/Movie-Genre-Multi-Label-Text-Classification/refs/heads/master/Data/movies_genres.csv\"\n",
        "data = pd.read_csv(url, quotechar='\"', delimiter=\"\\t\", encoding=\"utf-8\", on_bad_lines=\"skip\")\n",
        "\n",
        "# Inspect the data\n",
        "print(data.head())\n"
      ],
      "metadata": {
        "colab": {
          "base_uri": "https://localhost:8080/"
        },
        "id": "mHYngWAZvkzr",
        "outputId": "b98ab599-ff93-4f1e-9be9-4e63d89de1ae"
      },
      "execution_count": 6,
      "outputs": [
        {
          "output_type": "stream",
          "name": "stdout",
          "text": [
            "                                               title  \\\n",
            "0                               \"#7DaysLater\" (2013)   \n",
            "1       \"#BlackLove\" (2015) {Crash the Party (#1.9)}   \n",
            "2  \"#BlackLove\" (2015) {Making Lemonade Out of Le...   \n",
            "3      \"#BlackLove\" (2015) {Miss Independent (#1.5)}   \n",
            "4     \"#BlackLove\" (2015) {Sealing the Deal (#1.10)}   \n",
            "\n",
            "                                                plot  Action  Adult  \\\n",
            "0   #7dayslater is an interactive comedy series f...       0      0   \n",
            "1   With just one week left in the workshops, the...       0      0   \n",
            "2   All of the women start making strides towards...       0      0   \n",
            "3   All five of these women are independent and s...       0      0   \n",
            "4   Despite having gone through a life changing p...       0      0   \n",
            "\n",
            "   Adventure  Animation  Biography  Comedy  Crime  Documentary  ...  \\\n",
            "0          0          0          0       1      0            0  ...   \n",
            "1          0          0          0       0      0            0  ...   \n",
            "2          0          0          0       0      0            0  ...   \n",
            "3          0          0          0       0      0            0  ...   \n",
            "4          0          0          0       0      0            0  ...   \n",
            "\n",
            "   Reality-TV  Romance  Sci-Fi  Short  Sport  Talk-Show  Thriller  War  \\\n",
            "0           0        0       0      0      0          0         0    0   \n",
            "1           1        0       0      0      0          0         0    0   \n",
            "2           1        0       0      0      0          0         0    0   \n",
            "3           1        0       0      0      0          0         0    0   \n",
            "4           1        0       0      0      0          0         0    0   \n",
            "\n",
            "   Western  plot_lang  \n",
            "0        0         en  \n",
            "1        0         en  \n",
            "2        0         en  \n",
            "3        0         en  \n",
            "4        0         en  \n",
            "\n",
            "[5 rows x 30 columns]\n"
          ]
        }
      ]
    },
    {
      "cell_type": "code",
      "source": [
        "# Preprocess Text\n",
        "def preprocess_text(text):\n",
        "    if not isinstance(text, str):  # Handle missing or non-string values\n",
        "        return \"\"\n",
        "    text = text.lower()  # Lowercase\n",
        "    text = re.sub(f\"[{string.punctuation}]\", \"\", text)  # Remove punctuation\n",
        "    text = re.sub(r'\\d+', '', text)  # Remove numbers\n",
        "    text = \" \".join(word for word in text.split() if word not in stopwords.words('english'))  # Remove stopwords\n",
        "    return text\n",
        "\n",
        "# Apply preprocessing\n",
        "data['cleaned_plot'] = data['plot'].apply(preprocess_text)\n"
      ],
      "metadata": {
        "id": "gFlODEWaC9vi"
      },
      "execution_count": 7,
      "outputs": []
    },
    {
      "cell_type": "code",
      "source": [
        "# Get all genre columns (binary genre indicators)\n",
        "genre_columns = [col for col in data.columns if col not in ['title', 'plot', 'plot_lang', 'cleaned_plot']]\n",
        "\n",
        "# Check the available genres\n",
        "print(\"Available genres:\", genre_columns)\n",
        "\n",
        "# Multilabel target format (optional, for better understanding)\n",
        "data['genres'] = data[genre_columns].apply(lambda x: [genre_columns[i] for i, val in enumerate(x) if val == 1], axis=1)\n",
        "print(data[['cleaned_plot', 'genres']].head())\n"
      ],
      "metadata": {
        "colab": {
          "base_uri": "https://localhost:8080/"
        },
        "id": "DbzHERZQDEtL",
        "outputId": "76ab0b2c-d150-44c2-9915-acd2173e5a8c"
      },
      "execution_count": 8,
      "outputs": [
        {
          "output_type": "stream",
          "name": "stdout",
          "text": [
            "Available genres: ['Action', 'Adult', 'Adventure', 'Animation', 'Biography', 'Comedy', 'Crime', 'Documentary', 'Drama', 'Family', 'Fantasy', 'Game-Show', 'History', 'Horror', 'Music', 'Musical', 'Mystery', 'News', 'Reality-TV', 'Romance', 'Sci-Fi', 'Short', 'Sport', 'Talk-Show', 'Thriller', 'War', 'Western']\n",
            "                                        cleaned_plot        genres\n",
            "0  dayslater interactive comedy series featuring ...      [Comedy]\n",
            "1  one week left workshops women consider idea on...  [Reality-TV]\n",
            "2  women start making strides towards finding ver...  [Reality-TV]\n",
            "3  five women independent strong willed theyve fa...  [Reality-TV]\n",
            "4  despite gone life changing process past ten we...  [Reality-TV]\n"
          ]
        }
      ]
    },
    {
      "cell_type": "code",
      "source": [
        "# Features (TF-IDF from cleaned plots) and Targets (binary genre columns)\n",
        "X = data['cleaned_plot']\n",
        "y = data[genre_columns]\n",
        "\n",
        "# Train-test split\n",
        "X_train, X_test, y_train, y_test = train_test_split(X, y, test_size=0.2, random_state=42)\n",
        "\n"
      ],
      "metadata": {
        "id": "Au4fGjyOv5Lc"
      },
      "execution_count": 9,
      "outputs": []
    },
    {
      "cell_type": "code",
      "source": [
        "# TF-IDF vectorization\n",
        "tfidf = TfidfVectorizer(max_features=5000, stop_words='english')\n",
        "X_train_tfidf = tfidf.fit_transform(X_train)\n",
        "X_test_tfidf = tfidf.transform(X_test)\n"
      ],
      "metadata": {
        "id": "NDPVCj5iCErV"
      },
      "execution_count": 10,
      "outputs": []
    },
    {
      "cell_type": "code",
      "source": [
        "# Multilabel classification using OneVsRest and Naive Bayes\n",
        "model = OneVsRestClassifier(MultinomialNB())\n",
        "model.fit(X_train_tfidf, y_train)\n",
        "\n",
        "# Predict on the test set\n",
        "y_pred = model.predict(X_test_tfidf)\n",
        "\n"
      ],
      "metadata": {
        "id": "atXwLVX1CG47"
      },
      "execution_count": 11,
      "outputs": []
    },
    {
      "cell_type": "code",
      "source": [
        "from sklearn.metrics import classification_report, accuracy_score\n",
        "\n",
        "print(\"Accuracy:\", accuracy_score(y_test, y_pred))\n",
        "print(\"\\nClassification Report:\\n\", classification_report(y_test, y_pred, target_names=genre_columns))\n"
      ],
      "metadata": {
        "colab": {
          "base_uri": "https://localhost:8080/"
        },
        "id": "CSsyLTNECI1g",
        "outputId": "c34de86f-3f50-41b5-d336-ab840b309f78"
      },
      "execution_count": 12,
      "outputs": [
        {
          "output_type": "stream",
          "name": "stdout",
          "text": [
            "Accuracy: 0.22385767310892102\n",
            "\n",
            "Classification Report:\n",
            "               precision    recall  f1-score   support\n",
            "\n",
            "      Action       0.88      0.19      0.32      2451\n",
            "       Adult       0.00      0.00      0.00        11\n",
            "   Adventure       0.72      0.14      0.23      2025\n",
            "   Animation       0.83      0.18      0.29      2238\n",
            "   Biography       0.00      0.00      0.00       291\n",
            "      Comedy       0.86      0.35      0.50      6815\n",
            "       Crime       0.84      0.40      0.54      3094\n",
            " Documentary       0.73      0.28      0.41      2397\n",
            "       Drama       0.77      0.72      0.74      9234\n",
            "      Family       0.84      0.09      0.16      3096\n",
            "     Fantasy       0.82      0.09      0.16      1397\n",
            "   Game-Show       0.87      0.33      0.47       421\n",
            "     History       0.76      0.09      0.16       498\n",
            "      Horror       1.00      0.01      0.02       530\n",
            "       Music       0.89      0.23      0.37       588\n",
            "     Musical       0.00      0.00      0.00       102\n",
            "     Mystery       0.77      0.24      0.36      2448\n",
            "        News       0.90      0.29      0.44       794\n",
            "  Reality-TV       0.77      0.22      0.34      2434\n",
            "     Romance       0.91      0.46      0.61      3846\n",
            "      Sci-Fi       0.82      0.17      0.28      1743\n",
            "       Short       0.00      0.00      0.00       120\n",
            "       Sport       0.92      0.03      0.06       401\n",
            "   Talk-Show       0.72      0.38      0.50      1055\n",
            "    Thriller       0.79      0.09      0.16      1796\n",
            "         War       0.82      0.03      0.06       282\n",
            "     Western       1.00      0.28      0.44       554\n",
            "\n",
            "   micro avg       0.81      0.34      0.47     50661\n",
            "   macro avg       0.71      0.20      0.28     50661\n",
            "weighted avg       0.81      0.34      0.44     50661\n",
            " samples avg       0.46      0.36      0.38     50661\n",
            "\n"
          ]
        },
        {
          "output_type": "stream",
          "name": "stderr",
          "text": [
            "/usr/local/lib/python3.10/dist-packages/sklearn/metrics/_classification.py:1531: UndefinedMetricWarning: Precision is ill-defined and being set to 0.0 in labels with no predicted samples. Use `zero_division` parameter to control this behavior.\n",
            "  _warn_prf(average, modifier, f\"{metric.capitalize()} is\", len(result))\n",
            "/usr/local/lib/python3.10/dist-packages/sklearn/metrics/_classification.py:1531: UndefinedMetricWarning: Precision is ill-defined and being set to 0.0 in samples with no predicted labels. Use `zero_division` parameter to control this behavior.\n",
            "  _warn_prf(average, modifier, f\"{metric.capitalize()} is\", len(result))\n"
          ]
        }
      ]
    },
    {
      "cell_type": "code",
      "source": [
        "test_plot = \"A thrilling adventure where a young hero discovers the power of friendship.\"\n",
        "test_tfidf = tfidf.transform([preprocess_text(test_plot)])\n",
        "test_prediction = model.predict(test_tfidf)\n",
        "\n",
        "# Map predictions to genre names\n",
        "predicted_genres = [genre for genre, value in zip(genre_columns, test_prediction[0]) if value == 1]\n",
        "print(\"Predicted Genres:\", predicted_genres)\n"
      ],
      "metadata": {
        "colab": {
          "base_uri": "https://localhost:8080/"
        },
        "id": "7jNEROYPCLr0",
        "outputId": "45ed0512-796f-4591-e979-4295e9cf9f1b"
      },
      "execution_count": 13,
      "outputs": [
        {
          "output_type": "stream",
          "name": "stdout",
          "text": [
            "Predicted Genres: []\n"
          ]
        }
      ]
    }
  ]
}